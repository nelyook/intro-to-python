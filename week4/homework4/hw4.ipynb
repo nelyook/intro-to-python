{
 "cells": [
  {
   "cell_type": "code",
   "execution_count": null,
   "metadata": {},
   "outputs": [],
   "source": [
    "n_shoes = int(input('How many shoes do you want to buy? '))\n",
    "if n_shoes > 10:\n",
    "    print ('You get a discount')\n",
    "else:\n",
    "    print (\"You don't get a discount\")"
   ]
  },
  {
   "cell_type": "code",
   "execution_count": null,
   "metadata": {},
   "outputs": [],
   "source": [
    "d =  {'name': 'Armen', 'age': 15, 'grades': [10, 8, 8, 4, 6, 7] }\n",
    "list = d.get('grades')\n",
    "a = sum (list)\n",
    "average = a/len(list)\n",
    "print (average)\n"
   ]
  },
  {
   "cell_type": "code",
   "execution_count": null,
   "metadata": {},
   "outputs": [],
   "source": [
    "n=1\n",
    "while n<10:\n",
    "    n += 1\n",
    "    \n",
    "    if n%2 == 0:\n",
    "        \n",
    "        continue \n",
    "    \n",
    "    print(n)\n",
    "    "
   ]
  },
  {
   "cell_type": "code",
   "execution_count": null,
   "metadata": {},
   "outputs": [],
   "source": [
    "for n in range(11):\n",
    "    if n % 2 == 0:\n",
    "        continue \n",
    "    print(n)"
   ]
  },
  {
   "cell_type": "code",
   "execution_count": null,
   "metadata": {},
   "outputs": [],
   "source": [
    "list1 = [1, 3, 5, 7, 9, 11, 13, 15]\n",
    "list2 = [4, 6, 14, 11,8, 16]\n",
    "for i in range (len(list1)):\n",
    "    if list1 [i] in list2:\n",
    "        print (list1[i])\n",
    "        break\n",
    "        \n",
    " \n",
    "  \n",
    "\n"
   ]
  },
  {
   "cell_type": "code",
   "execution_count": 10,
   "metadata": {},
   "outputs": [
    {
     "name": "stdout",
     "output_type": "stream",
     "text": [
      "What desert would you like to have? kaka\n",
      "Please choose another desert\n",
      "What other desert would you like? koko\n",
      "Please choose another desert\n",
      "What other desert would you like? kaka\n",
      "Please choose another desert\n",
      "What other desert would you like? keke\n",
      "Please choose another desert\n",
      "What other desert would you like? keke\n",
      "Please choose another desert\n",
      "What other desert would you like? keke\n",
      "Please choose another desert\n",
      "What other desert would you like? ice cream\n",
      "Your dessert will arrive in 10 minutes\n"
     ]
    }
   ],
   "source": [
    "menu =  ['ice cream', 'chocolate', 'apple crisp', 'cookies']\n",
    "desert = input('What desert would you like to have? ')\n",
    "while True:\n",
    "    if desert in menu:\n",
    "        print ('Your dessert will arrive in 10 minutes')\n",
    "        break\n",
    "    else:\n",
    "        print ('Please choose another desert')\n",
    "        desert = input ('What other desert would you like? ')"
   ]
  },
  {
   "cell_type": "code",
   "execution_count": 12,
   "metadata": {},
   "outputs": [
    {
     "name": "stdout",
     "output_type": "stream",
     "text": [
      "4\n"
     ]
    }
   ],
   "source": [
    "list2 = [1,2,3,4,5,6,8,9,12,13,56]\n",
    "count = 0\n",
    "for n in list2:\n",
    "    if n in range (5,10):\n",
    "        count += 1\n",
    "\n",
    "print (count)"
   ]
  },
  {
   "cell_type": "code",
   "execution_count": 15,
   "metadata": {},
   "outputs": [
    {
     "data": {
      "text/plain": [
       "4"
      ]
     },
     "execution_count": 15,
     "metadata": {},
     "output_type": "execute_result"
    }
   ],
   "source": [
    "len([n for n in list2 if n in range(5,10)])"
   ]
  },
  {
   "cell_type": "code",
   "execution_count": 36,
   "metadata": {},
   "outputs": [
    {
     "name": "stdout",
     "output_type": "stream",
     "text": [
      "[[10, 20, 40], [40, 50, 60], [70, 80, 90]]\n",
      "[[10, 20, 100], [40, 50, 100], [70, 80, 100]]\n"
     ]
    }
   ],
   "source": [
    "list4 =  [[10, 20, 40], [40, 50, 60], [70, 80, 90]]\n",
    "list5 = [i[0:len(i)-1] + [100] for i in list4]\n",
    "print (list4)\n",
    "print (list5)\n",
    " "
   ]
  },
  {
   "cell_type": "code",
   "execution_count": null,
   "metadata": {},
   "outputs": [],
   "source": []
  }
 ],
 "metadata": {
  "kernelspec": {
   "display_name": "Python 3",
   "language": "python",
   "name": "python3"
  },
  "language_info": {
   "codemirror_mode": {
    "name": "ipython",
    "version": 3
   },
   "file_extension": ".py",
   "mimetype": "text/x-python",
   "name": "python",
   "nbconvert_exporter": "python",
   "pygments_lexer": "ipython3",
   "version": "3.7.4"
  }
 },
 "nbformat": 4,
 "nbformat_minor": 2
}
