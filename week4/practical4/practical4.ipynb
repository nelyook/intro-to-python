{
 "cells": [
  {
   "cell_type": "code",
   "execution_count": null,
   "metadata": {},
   "outputs": [],
   "source": [
    "n1 = int (input ('please input a number '))\n",
    "n2 = int (input('please input a number '))\n",
    "maximum = max (n1,n2)\n",
    "print (\"the number \", maximum, \" is the greatest\")\n"
   ]
  },
  {
   "cell_type": "code",
   "execution_count": 8,
   "metadata": {},
   "outputs": [
    {
     "name": "stdout",
     "output_type": "stream",
     "text": [
      "please input a number 22\n",
      "please input a number 22\n",
      "the numbers are equal\n"
     ]
    }
   ],
   "source": [
    "n1 = int (input ('please input a number '))\n",
    "n2 = int (input('please input a number '))\n",
    "if n1 > n2:\n",
    "    print ('number ', n1, ' is the greatest')\n",
    "elif n1 < n2:\n",
    "    print ('number ', n2, ' is the greatest')\n",
    "else:\n",
    "        print ('the numbers are equal')\n",
    "    "
   ]
  },
  {
   "cell_type": "code",
   "execution_count": 9,
   "metadata": {},
   "outputs": [
    {
     "name": "stdout",
     "output_type": "stream",
     "text": [
      "rectangle\n"
     ]
    }
   ],
   "source": [
    "a = 3\n",
    "b = 4\n",
    "if a==b:\n",
    "    print ('square')\n",
    "else:\n",
    "    print ('rectangle')"
   ]
  },
  {
   "cell_type": "code",
   "execution_count": 14,
   "metadata": {},
   "outputs": [
    {
     "name": "stdout",
     "output_type": "stream",
     "text": [
      "Please enter a different password\n"
     ]
    }
   ],
   "source": [
    "name = \"Nelli\"\n",
    "age = 18\n",
    "password  = \"Asdkajskdgl\"\n",
    "if name == \"Batman\":\n",
    "    print ('hello Mr. Batman')\n",
    "if age < 16:\n",
    "    print ('sorry ', name, \"you're too young to register\")\n",
    "if password.find(\"*\") == -1 or password.find(\"&\") == -1:\n",
    "    print ('Please enter a different password')"
   ]
  },
  {
   "cell_type": "code",
   "execution_count": 18,
   "metadata": {},
   "outputs": [
    {
     "name": "stdout",
     "output_type": "stream",
     "text": [
      "input a number 22\n",
      "{'name': 'Armen', 'age': 15, 'grades': [10, 8, 8, 4, 6, 7], 'weight': 22}\n"
     ]
    }
   ],
   "source": [
    "dict1 = {'name': 'Armen', 'age': 15, 'grades': [10, 8,8, 4, 6, 7]}\n",
    "if 'weight' in dict1.keys():\n",
    "    print (dict1['weight'])\n",
    "else:\n",
    "    n =int (input ('input a number ')) \n",
    "    dict1['weight'] = n\n",
    "    print (dict1)"
   ]
  },
  {
   "cell_type": "code",
   "execution_count": 2,
   "metadata": {},
   "outputs": [
    {
     "name": "stdout",
     "output_type": "stream",
     "text": [
      "1\n",
      "3\n",
      "5\n",
      "7\n",
      "9\n",
      "11\n",
      "13\n",
      "15\n",
      "17\n",
      "19\n",
      "21\n",
      "23\n",
      "25\n",
      "27\n",
      "29\n",
      "31\n",
      "33\n",
      "35\n",
      "37\n",
      "39\n",
      "41\n",
      "43\n",
      "45\n",
      "47\n",
      "49\n",
      "51\n",
      "53\n",
      "55\n",
      "57\n",
      "59\n",
      "61\n",
      "63\n",
      "65\n",
      "67\n",
      "69\n",
      "71\n",
      "73\n",
      "75\n",
      "77\n",
      "79\n",
      "81\n",
      "83\n",
      "85\n",
      "87\n",
      "89\n",
      "91\n",
      "93\n",
      "95\n",
      "97\n",
      "99\n"
     ]
    }
   ],
   "source": [
    "for num in range(1, 101): \n",
    "    if num % 2 != 0: \n",
    "        print(num) "
   ]
  },
  {
   "cell_type": "code",
   "execution_count": null,
   "metadata": {},
   "outputs": [],
   "source": []
  }
 ],
 "metadata": {
  "kernelspec": {
   "display_name": "Python 3",
   "language": "python",
   "name": "python3"
  },
  "language_info": {
   "codemirror_mode": {
    "name": "ipython",
    "version": 3
   },
   "file_extension": ".py",
   "mimetype": "text/x-python",
   "name": "python",
   "nbconvert_exporter": "python",
   "pygments_lexer": "ipython3",
   "version": "3.7.4"
  }
 },
 "nbformat": 4,
 "nbformat_minor": 2
}
