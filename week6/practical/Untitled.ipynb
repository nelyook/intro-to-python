{
 "cells": [
  {
   "cell_type": "code",
   "execution_count": 2,
   "metadata": {},
   "outputs": [
    {
     "name": "stdout",
     "output_type": "stream",
     "text": [
      "A  purplr  circle with radius  4\n",
      "A  red  circle with radius  3\n"
     ]
    }
   ],
   "source": [
    "class Circle:\n",
    "    def __init__(self, radius, color):\n",
    "        self.radius = radius\n",
    "        self.color = color\n",
    "        \n",
    "    def getDesc(self):\n",
    "        print(\"A \", self.color, \" circle with radius \", self.radius)\n",
    "        \n",
    "c1 = Circle(4, 'purplr')\n",
    "c2 = Circle(3, 'red')\n",
    "\n",
    "c1.getDesc()\n",
    "Circle.getDesc(c2)"
   ]
  },
  {
   "cell_type": "code",
   "execution_count": 4,
   "metadata": {},
   "outputs": [
    {
     "name": "stdout",
     "output_type": "stream",
     "text": [
      "Intro to Python\n",
      "INTRO TO PYTHON\n"
     ]
    }
   ],
   "source": [
    "class StringWork:\n",
    "    def __init__(self, my_str):\n",
    "        self.my_str = my_str\n",
    "        \n",
    "    def get_String(self):\n",
    "        return self.my_str\n",
    "    \n",
    "    def print_String(self):\n",
    "        print(self.my_str.upper())\n",
    "        \n",
    "txt = StringWork(\"Intro to Python\")\n",
    "print(txt.get_String())\n",
    "txt.print_String()"
   ]
  },
  {
   "cell_type": "code",
   "execution_count": 6,
   "metadata": {},
   "outputs": [
    {
     "name": "stdout",
     "output_type": "stream",
     "text": [
      "Mane Mkheyan\n",
      "Low\n",
      "Ara Sahakyan\n",
      "High\n"
     ]
    }
   ],
   "source": [
    "class Employee:\n",
    "    def __init__(self, name, last_name, monthly_salary):\n",
    "        self.name = name\n",
    "        self.last_name = last_name\n",
    "        self.__monthly_salary = monthly_salary\n",
    "        \n",
    "    def getFullName(self):\n",
    "        return self.name + \" \" + self.last_name\n",
    "    \n",
    "    def annualSalary(self):\n",
    "        return \"High\" if self.__monthly_salary * 12 > 100 else \"Low\"\n",
    "        \n",
    "emp1 = Employee(\"Mane\", \"Mkheyan\", 2)\n",
    "emp2 = Employee(\"Ara\", \"Sahakyan\", 11)\n",
    "\n",
    "print(emp1.getFullName())\n",
    "print(emp1.annualSalary())\n",
    "\n",
    "print(emp2.getFullName())\n",
    "print(emp2.annualSalary())"
   ]
  },
  {
   "cell_type": "code",
   "execution_count": 10,
   "metadata": {},
   "outputs": [
    {
     "name": "stdout",
     "output_type": "stream",
     "text": [
      "toyota corola is better than suzuki jimny\n"
     ]
    }
   ],
   "source": [
    "class Car:\n",
    "    def __init__(self, model, color, maxspeed):\n",
    "        self.model = model\n",
    "        self.color = color\n",
    "        self.maxspeed = maxspeed\n",
    "    def compareCar (self, car2):\n",
    "        if self.maxspeed > car2.maxspeed:\n",
    "            return car1.model + \" is better than \" + car2.model\n",
    "        else:\n",
    "            return car2.model + \" is better than \" + car1.model\n",
    "        \n",
    "car1 = Car(\"toyota corola\", \"black\", 190)\n",
    "car2 = Car('suzuki jimny', \"black\", 90)\n",
    "\n",
    "print (car1.compareCar(car2))\n"
   ]
  },
  {
   "cell_type": "code",
   "execution_count": null,
   "metadata": {},
   "outputs": [],
   "source": [
    "class Police_car:\n",
    "    def __init__ (self, owner, price, pass_code):\n",
    "        self.woner = owner\n",
    "        self.price = price\n",
    "        slef.__pass_code = pass_code\n",
    "        "
   ]
  }
 ],
 "metadata": {
  "kernelspec": {
   "display_name": "Python 3",
   "language": "python",
   "name": "python3"
  },
  "language_info": {
   "codemirror_mode": {
    "name": "ipython",
    "version": 3
   },
   "file_extension": ".py",
   "mimetype": "text/x-python",
   "name": "python",
   "nbconvert_exporter": "python",
   "pygments_lexer": "ipython3",
   "version": "3.7.4"
  }
 },
 "nbformat": 4,
 "nbformat_minor": 2
}
